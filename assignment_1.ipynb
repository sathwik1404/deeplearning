{
  "nbformat": 4,
  "nbformat_minor": 0,
  "metadata": {
    "colab": {
      "provenance": [],
      "authorship_tag": "ABX9TyNYQu8jdOQp2CxwTIEGhSz8",
      "include_colab_link": true
    },
    "kernelspec": {
      "name": "python3",
      "display_name": "Python 3"
    },
    "language_info": {
      "name": "python"
    }
  },
  "cells": [
    {
      "cell_type": "markdown",
      "metadata": {
        "id": "view-in-github",
        "colab_type": "text"
      },
      "source": [
        "<a href=\"https://colab.research.google.com/github/sathwik1404/deeplearning/blob/main/assignment_1.ipynb\" target=\"_parent\"><img src=\"https://colab.research.google.com/assets/colab-badge.svg\" alt=\"Open In Colab\"/></a>"
      ]
    },
    {
      "cell_type": "code",
      "execution_count": null,
      "metadata": {
        "colab": {
          "base_uri": "https://localhost:8080/"
        },
        "id": "nC7ruH2TdbUm",
        "outputId": "89cb73fd-9488-468f-d540-e6f75c8148eb"
      },
      "outputs": [
        {
          "output_type": "stream",
          "name": "stdout",
          "text": [
            "Epoch 1/3\n",
            " 51/157 [========>.....................] - ETA: 22s - loss: 0.6878 - accuracy: 0.5415"
          ]
        }
      ],
      "source": [
        "import numpy as np\n",
        "import matplotlib.pyplot as plt\n",
        "from tensorflow.keras.datasets import imdb\n",
        "from tensorflow.keras.models import Sequential\n",
        "from tensorflow.keras.layers import Embedding, SimpleRNN, GRU, LSTM, Dense\n",
        "from tensorflow.keras.preprocessing import sequence\n",
        "\n",
        "max_words = 10000\n",
        "\n",
        "(x_train, y_train), (x_test, y_test) = imdb.load_data(num_words=max_words)\n",
        "\n",
        "max_length = 250\n",
        "x_train = sequence.pad_sequences(x_train, maxlen=max_length)\n",
        "x_test = sequence.pad_sequences(x_test, maxlen=max_length)\n",
        "\n",
        "accuracies = []\n",
        "\n",
        "model_names = [\"SimpleRNN\", \"GRU\", \"LSTM\"]\n",
        "models = [\n",
        "    Sequential([\n",
        "        Embedding(max_words, 64, input_length=max_length),\n",
        "        SimpleRNN(64),\n",
        "        Dense(1, activation='sigmoid')\n",
        "    ]),\n",
        "    Sequential([\n",
        "        Embedding(max_words, 64, input_length=max_length),\n",
        "        GRU(64),\n",
        "        Dense(1, activation='sigmoid')\n",
        "    ]),\n",
        "    Sequential([\n",
        "        Embedding(max_words, 64, input_length=max_length),\n",
        "        LSTM(64),\n",
        "        Dense(1, activation='sigmoid')\n",
        "    ])\n",
        "]\n",
        "\n",
        "batch_size = 128\n",
        "epochs = 3\n",
        "\n",
        "histories = []\n",
        "\n",
        "for model in models:\n",
        "    model.compile(loss='binary_crossentropy', optimizer='adam', metrics=['accuracy'])\n",
        "    history = model.fit(x_train, y_train, batch_size=batch_size, epochs=epochs, validation_split=0.2)\n",
        "    histories.append(history)\n",
        "    _, accuracy = model.evaluate(x_test, y_test, batch_size=batch_size)\n",
        "    accuracies.append(round(accuracy,1))\n",
        "\n",
        "plt.figure(figsize=(10, 6))\n",
        "for i, history in enumerate(histories):\n",
        "    plt.plot(history.history['accuracy'], label=model_names[i])\n",
        "\n",
        "plt.xlabel('Epochs')\n",
        "plt.ylabel('Accuracy')\n",
        "plt.title('Comparison of Recurrent Models for Sentiment Analysis')\n",
        "plt.legend()\n",
        "plt.grid(True)\n",
        "plt.show()"
      ]
    }
  ]
}