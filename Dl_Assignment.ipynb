{
  "nbformat": 4,
  "nbformat_minor": 0,
  "metadata": {
    "colab": {
      "provenance": [],
      "gpuType": "T4",
      "include_colab_link": true
    },
    "kernelspec": {
      "name": "python3",
      "display_name": "Python 3"
    },
    "language_info": {
      "name": "python"
    },
    "accelerator": "GPU"
  },
  "cells": [
    {
      "cell_type": "markdown",
      "metadata": {
        "id": "view-in-github",
        "colab_type": "text"
      },
      "source": [
        "<a href=\"https://colab.research.google.com/github/sathwik1404/deeplearning/blob/main/Dl_Assignment.ipynb\" target=\"_parent\"><img src=\"https://colab.research.google.com/assets/colab-badge.svg\" alt=\"Open In Colab\"/></a>"
      ]
    },
    {
      "cell_type": "markdown",
      "source": [
        "# GRU"
      ],
      "metadata": {
        "id": "dMacSvBdpJB_"
      }
    },
    {
      "cell_type": "code",
      "execution_count": 5,
      "metadata": {
        "id": "zUdgjvgJn1pY"
      },
      "outputs": [],
      "source": [
        "import numpy as np\n",
        "from tensorflow.keras.datasets import imdb\n",
        "from tensorflow.keras.models import Sequential\n",
        "from tensorflow.keras.layers import Embedding,GRU,Dense\n",
        "from tensorflow.keras.preprocessing import sequence"
      ]
    },
    {
      "cell_type": "code",
      "source": [
        "max_words = 5000\n",
        "(xt,yt),(xte,yte)= imdb.load_data(num_words=max_words)\n",
        "\n",
        "max_len =500\n",
        "xt=sequence.pad_sequences(xt,maxlen=max_len)\n",
        "xte=sequence.pad_sequences(xte,maxlen=max_len)\n",
        "\n",
        "model=Sequential()\n",
        "model.add(Embedding(max_words,100,input_length=max_len))\n",
        "model.add(GRU(128))\n",
        "model.add(Dense(1,activation='sigmoid'))"
      ],
      "metadata": {
        "colab": {
          "base_uri": "https://localhost:8080/"
        },
        "id": "14jCZ1A9n4aO",
        "outputId": "ecf74428-846d-4264-eda6-0655a4a74341"
      },
      "execution_count": 6,
      "outputs": [
        {
          "output_type": "stream",
          "name": "stdout",
          "text": [
            "Downloading data from https://storage.googleapis.com/tensorflow/tf-keras-datasets/imdb.npz\n",
            "17464789/17464789 [==============================] - 0s 0us/step\n"
          ]
        }
      ]
    },
    {
      "cell_type": "code",
      "source": [
        "model.compile(loss='binary_crossentropy',optimizer='adam',metrics=['accuracy'])\n",
        "batch_size=128\n",
        "epochs=5\n",
        "model.fit(xt,yt,batch_size=batch_size,epochs=epochs)"
      ],
      "metadata": {
        "colab": {
          "base_uri": "https://localhost:8080/"
        },
        "id": "D5Zc89HNn4fg",
        "outputId": "24fe1884-e687-48fa-8258-10d5e707161c"
      },
      "execution_count": 7,
      "outputs": [
        {
          "output_type": "stream",
          "name": "stdout",
          "text": [
            "Epoch 1/5\n",
            "196/196 [==============================] - 49s 210ms/step - loss: 0.5985 - accuracy: 0.6729\n",
            "Epoch 2/5\n",
            "196/196 [==============================] - 26s 132ms/step - loss: 0.3808 - accuracy: 0.8306\n",
            "Epoch 3/5\n",
            "196/196 [==============================] - 17s 85ms/step - loss: 0.2659 - accuracy: 0.8922\n",
            "Epoch 4/5\n",
            "196/196 [==============================] - 12s 59ms/step - loss: 0.2148 - accuracy: 0.9166\n",
            "Epoch 5/5\n",
            "196/196 [==============================] - 10s 52ms/step - loss: 0.1806 - accuracy: 0.9308\n"
          ]
        },
        {
          "output_type": "execute_result",
          "data": {
            "text/plain": [
              "<keras.callbacks.History at 0x791be7931b10>"
            ]
          },
          "metadata": {},
          "execution_count": 7
        }
      ]
    },
    {
      "cell_type": "code",
      "source": [
        "loss,accuracy=model.evaluate(xte,yte,batch_size=batch_size)\n",
        "print(\"accuracy:\",accuracy)\n",
        "print(\"loss:\",loss)"
      ],
      "metadata": {
        "colab": {
          "base_uri": "https://localhost:8080/"
        },
        "id": "PgdJN5UQn4iQ",
        "outputId": "0f4b2efb-b21b-4dae-a83b-4df7d45a875e"
      },
      "execution_count": 8,
      "outputs": [
        {
          "output_type": "stream",
          "name": "stdout",
          "text": [
            "196/196 [==============================] - 4s 12ms/step - loss: 0.3333 - accuracy: 0.8645\n",
            "accuracy: 0.8644800186157227\n",
            "loss: 0.3332837224006653\n"
          ]
        }
      ]
    },
    {
      "cell_type": "code",
      "source": [
        "history=model.fit(xt,yt,batch_size=batch_size,epochs=epochs)"
      ],
      "metadata": {
        "colab": {
          "base_uri": "https://localhost:8080/"
        },
        "id": "WVcshU8jn4nx",
        "outputId": "8cabadea-f906-4178-98fe-92901ae0a0f5"
      },
      "execution_count": 9,
      "outputs": [
        {
          "output_type": "stream",
          "name": "stdout",
          "text": [
            "Epoch 1/5\n",
            "196/196 [==============================] - 10s 53ms/step - loss: 0.1505 - accuracy: 0.9446\n",
            "Epoch 2/5\n",
            "196/196 [==============================] - 9s 44ms/step - loss: 0.1289 - accuracy: 0.9541\n",
            "Epoch 3/5\n",
            "196/196 [==============================] - 7s 34ms/step - loss: 0.1039 - accuracy: 0.9641\n",
            "Epoch 4/5\n",
            "196/196 [==============================] - 9s 46ms/step - loss: 0.0800 - accuracy: 0.9735\n",
            "Epoch 5/5\n",
            "196/196 [==============================] - 7s 36ms/step - loss: 0.0639 - accuracy: 0.9797\n"
          ]
        }
      ]
    },
    {
      "cell_type": "code",
      "source": [
        "train_loss1 = history.history['loss']\n",
        "train_acc1 = history.history['accuracy']\n",
        "xc1=range(len(train_acc1))"
      ],
      "metadata": {
        "id": "XN36p4Q4n4qq"
      },
      "execution_count": 10,
      "outputs": []
    },
    {
      "cell_type": "code",
      "source": [
        "import matplotlib.pyplot as plt\n",
        "%matplotlib inline\n",
        "plt.bar(xc1, train_acc1)\n",
        "plt.xlabel(\"Epoch\")\n",
        "plt.ylabel(\"Accuracy\")\n",
        "plt.legend('train')"
      ],
      "metadata": {
        "colab": {
          "base_uri": "https://localhost:8080/",
          "height": 466
        },
        "id": "8zuvXwnhoDTN",
        "outputId": "c15219a2-2e60-43b9-b402-9bbbdf993a25"
      },
      "execution_count": 11,
      "outputs": [
        {
          "output_type": "execute_result",
          "data": {
            "text/plain": [
              "<matplotlib.legend.Legend at 0x791be244f340>"
            ]
          },
          "metadata": {},
          "execution_count": 11
        },
        {
          "output_type": "display_data",
          "data": {
            "text/plain": [
              "<Figure size 640x480 with 1 Axes>"
            ],
            "image/png": "[encoded data removed]"
          },
          "metadata": {}
        }
      ]
    },
    {
      "cell_type": "code",
      "source": [],
      "metadata": {
        "id": "qiyt0R85oDWM"
      },
      "execution_count": null,
      "outputs": []
    },
    {
      "cell_type": "markdown",
      "source": [
        "# LSTM"
      ],
      "metadata": {
        "id": "9qt71arKpPsO"
      }
    },
    {
      "cell_type": "code",
      "source": [
        "from tensorflow.keras.layers import Embedding,LSTM,Dense"
      ],
      "metadata": {
        "id": "SIOx-gBLoDb7"
      },
      "execution_count": 12,
      "outputs": []
    },
    {
      "cell_type": "code",
      "source": [
        "model = Sequential()\n",
        "model.add(Embedding(max_words,100, input_length=max_len))\n",
        "model.add(LSTM(128))\n",
        "model.add(Dense(units=1, activation='sigmoid'))"
      ],
      "metadata": {
        "id": "pjpVTJohoDfk"
      },
      "execution_count": 13,
      "outputs": []
    },
    {
      "cell_type": "code",
      "source": [
        "model.compile(loss='binary_crossentropy', optimizer='adam', metrics=['accuracy'])"
      ],
      "metadata": {
        "id": "448M4WzVq4Mj"
      },
      "execution_count": 14,
      "outputs": []
    },
    {
      "cell_type": "code",
      "source": [
        "epochs = 5\n",
        "batch_size = 128\n",
        "\n",
        "hist=model.fit(xt, yt, epochs=epochs, batch_size=batch_size)"
      ],
      "metadata": {
        "colab": {
          "base_uri": "https://localhost:8080/"
        },
        "id": "BGZwBkl-oDjO",
        "outputId": "e1f89731-769c-4465-d18e-bb211d38e63e"
      },
      "execution_count": 15,
      "outputs": [
        {
          "output_type": "stream",
          "name": "stdout",
          "text": [
            "Epoch 1/5\n",
            "196/196 [==============================] - 41s 197ms/step - loss: 0.5076 - accuracy: 0.7624\n",
            "Epoch 2/5\n",
            "196/196 [==============================] - 19s 97ms/step - loss: 0.3070 - accuracy: 0.8753\n",
            "Epoch 3/5\n",
            "196/196 [==============================] - 13s 69ms/step - loss: 0.2713 - accuracy: 0.8954\n",
            "Epoch 4/5\n",
            "196/196 [==============================] - 10s 52ms/step - loss: 0.2218 - accuracy: 0.9148\n",
            "Epoch 5/5\n",
            "196/196 [==============================] - 10s 54ms/step - loss: 0.2047 - accuracy: 0.9216\n"
          ]
        }
      ]
    },
    {
      "cell_type": "code",
      "source": [
        "loss,accuracy=model.evaluate(xte,yte,batch_size=batch_size)\n",
        "print(\"accuracy:\",accuracy)\n",
        "print(\"loss:\",loss)"
      ],
      "metadata": {
        "colab": {
          "base_uri": "https://localhost:8080/"
        },
        "id": "uhJSRO3koDmX",
        "outputId": "4e544392-e920-4919-af60-5e4dc4e3e55f"
      },
      "execution_count": 16,
      "outputs": [
        {
          "output_type": "stream",
          "name": "stdout",
          "text": [
            "196/196 [==============================] - 3s 13ms/step - loss: 0.3775 - accuracy: 0.8652\n",
            "accuracy: 0.8651999831199646\n",
            "loss: 0.37746375799179077\n"
          ]
        }
      ]
    },
    {
      "cell_type": "code",
      "source": [
        "train_loss2 = hist.history['loss']\n",
        "train_acc2 = hist.history['accuracy']\n",
        "xc2=range(len(train_acc2))"
      ],
      "metadata": {
        "id": "s6CVpxJBoDpm"
      },
      "execution_count": 17,
      "outputs": []
    },
    {
      "cell_type": "code",
      "source": [
        "import matplotlib.pyplot as plt\n",
        "%matplotlib inline\n",
        "plt.bar(xc2, train_acc2)\n",
        "plt.xlabel(\"Epoch\")\n",
        "plt.ylabel(\"Accuracy\")\n",
        "plt.legend('train')"
      ],
      "metadata": {
        "colab": {
          "base_uri": "https://localhost:8080/",
          "height": 466
        },
        "id": "gtRfEVhEoDs6",
        "outputId": "ec0c77b9-31cb-4b0f-99ed-ff16b6b71ebf"
      },
      "execution_count": 18,
      "outputs": [
        {
          "output_type": "execute_result",
          "data": {
            "text/plain": [
              "<matplotlib.legend.Legend at 0x791be2fe9c00>"
            ]
          },
          "metadata": {},
          "execution_count": 18
        },
        {
          "output_type": "display_data",
          "data": {
            "text/plain": [
              "<Figure size 640x480 with 1 Axes>"
            ],
            "image/png": "[encoded data removed]"
          },
          "metadata": {}
        }
      ]
    },
    {
      "cell_type": "code",
      "source": [],
      "metadata": {
        "id": "HnnVqyc8oDvt"
      },
      "execution_count": null,
      "outputs": []
    },
    {
      "cell_type": "markdown",
      "source": [
        "# RNN"
      ],
      "metadata": {
        "id": "mD5dmRjGpUq2"
      }
    },
    {
      "cell_type": "code",
      "source": [
        "from tensorflow.keras.layers import Embedding,RNN\n",
        "from keras import layers\n"
      ],
      "metadata": {
        "id": "H35ohZPqoDzA"
      },
      "execution_count": 19,
      "outputs": []
    },
    {
      "cell_type": "code",
      "source": [
        "model = Sequential()\n",
        "model.add(Embedding(max_words,100, input_length=max_len))\n",
        "model.add(layers.LSTM(128))\n",
        "model.add(layers.Dense(10))\n",
        "model.add(Dense(units=1, activation='sigmoid'))"
      ],
      "metadata": {
        "id": "XJmjFdr1oPbx"
      },
      "execution_count": 20,
      "outputs": []
    },
    {
      "cell_type": "code",
      "source": [
        "model.compile(loss='binary_crossentropy', optimizer='adam', metrics=['accuracy'])"
      ],
      "metadata": {
        "id": "p42iNcd0oPe0"
      },
      "execution_count": 21,
      "outputs": []
    },
    {
      "cell_type": "code",
      "source": [
        "epochs = 5\n",
        "batch_size = 128\n",
        "\n",
        "h=model.fit(xt, yt, epochs=epochs, batch_size=batch_size, validation_split=0.2)"
      ],
      "metadata": {
        "colab": {
          "base_uri": "https://localhost:8080/"
        },
        "id": "Z3EIC47voPh5",
        "outputId": "9f8f1c16-a4a8-4295-d63a-ca8c608737fb"
      },
      "execution_count": 22,
      "outputs": [
        {
          "output_type": "stream",
          "name": "stdout",
          "text": [
            "Epoch 1/5\n",
            "157/157 [==============================] - 38s 226ms/step - loss: 0.5037 - accuracy: 0.7406 - val_loss: 0.3543 - val_accuracy: 0.8436\n",
            "Epoch 2/5\n",
            "157/157 [==============================] - 16s 101ms/step - loss: 0.2753 - accuracy: 0.8898 - val_loss: 0.3120 - val_accuracy: 0.8710\n",
            "Epoch 3/5\n",
            "157/157 [==============================] - 13s 84ms/step - loss: 0.2206 - accuracy: 0.9150 - val_loss: 0.3085 - val_accuracy: 0.8694\n",
            "Epoch 4/5\n",
            "157/157 [==============================] - 11s 67ms/step - loss: 0.1843 - accuracy: 0.9314 - val_loss: 0.3861 - val_accuracy: 0.8248\n",
            "Epoch 5/5\n",
            "157/157 [==============================] - 10s 64ms/step - loss: 0.2512 - accuracy: 0.8938 - val_loss: 0.3561 - val_accuracy: 0.8584\n"
          ]
        }
      ]
    },
    {
      "cell_type": "code",
      "source": [
        "loss,accuracy=model.evaluate(xte,yte,batch_size=batch_size)\n",
        "print(\"accuracy:\",accuracy)\n",
        "print(\"loss:\",loss)"
      ],
      "metadata": {
        "colab": {
          "base_uri": "https://localhost:8080/"
        },
        "id": "wgc8a94doPk5",
        "outputId": "90304f5a-d6d6-4ab1-b759-09ddbb8bcc39"
      },
      "execution_count": 23,
      "outputs": [
        {
          "output_type": "stream",
          "name": "stdout",
          "text": [
            "196/196 [==============================] - 3s 13ms/step - loss: 0.3765 - accuracy: 0.8486\n",
            "accuracy: 0.8486400246620178\n",
            "loss: 0.3765178918838501\n"
          ]
        }
      ]
    },
    {
      "cell_type": "code",
      "source": [
        "train_loss3 = h.history['loss']\n",
        "train_acc3 = h.history['accuracy']\n",
        "xc3=range(len(train_loss3))\n",
        "import matplotlib.pyplot as plt\n",
        "%matplotlib inline\n",
        "plt.bar(xc3, train_acc3)\n",
        "plt.xlabel(\"Epoch\")\n",
        "plt.ylabel(\"Accuracy\")\n",
        "plt.legend('train')"
      ],
      "metadata": {
        "colab": {
          "base_uri": "https://localhost:8080/",
          "height": 466
        },
        "id": "2l7czpdzoPn6",
        "outputId": "9ea27152-789d-46ce-d3e3-b10fcf5ee658"
      },
      "execution_count": 24,
      "outputs": [
        {
          "output_type": "execute_result",
          "data": {
            "text/plain": [
              "<matplotlib.legend.Legend at 0x791be6a1d0c0>"
            ]
          },
          "metadata": {},
          "execution_count": 24
        },
        {
          "output_type": "display_data",
          "data": {
            "text/plain": [
              "<Figure size 640x480 with 1 Axes>"
            ],
            "image/png": "[encoded data removed]"
          },
          "metadata": {}
        }
      ]
    },
    {
      "cell_type": "markdown",
      "source": [
        "# PLOT"
      ],
      "metadata": {
        "id": "yS2P5NdspXq0"
      }
    },
    {
      "cell_type": "code",
      "source": [
        "plt.bar(xc1, train_acc1)\n",
        "plt.bar(xc2, train_acc2)\n",
        "plt.bar(xc3, train_acc3)\n",
        "plt.xlabel(\"Epoch\")\n",
        "plt.ylabel(\"Accuracy\")\n",
        "plt.legend([\"GRU\",\"LSTM\",\"RNN\"])"
      ],
      "metadata": {
        "colab": {
          "base_uri": "https://localhost:8080/",
          "height": 466
        },
        "id": "X1TioQbroPrG",
        "outputId": "92c31115-31a1-4186-a3fc-fcb3bc3902d0"
      },
      "execution_count": 26,
      "outputs": [
        {
          "output_type": "execute_result",
          "data": {
            "text/plain": [
              "<matplotlib.legend.Legend at 0x791beaa837f0>"
            ]
          },
          "metadata": {},
          "execution_count": 26
        },
        {
          "output_type": "display_data",
          "data": {
            "text/plain": [
              "<Figure size 640x480 with 1 Axes>"
            ],
            "image/png": "[encoded data removed]"
          },
          "metadata": {}
        }
      ]
    },
    {
      "cell_type": "markdown",
      "source": [],
      "metadata": {
        "id": "f-DrJ2rmpHzy"
      }
    },
    {
      "cell_type": "code",
      "source": [],
      "metadata": {
        "id": "wQnf-jXaoPuL"
      },
      "execution_count": null,
      "outputs": []
    },
    {
      "cell_type": "code",
      "source": [],
      "metadata": {
        "id": "-vpQFPk1oPxS"
      },
      "execution_count": null,
      "outputs": []
    },
    {
      "cell_type": "code",
      "source": [],
      "metadata": {
        "id": "IKVWJAEOoP3V"
      },
      "execution_count": null,
      "outputs": []
    }
  ]
}